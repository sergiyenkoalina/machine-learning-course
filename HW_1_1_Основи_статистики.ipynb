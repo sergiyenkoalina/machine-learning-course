{
  "nbformat": 4,
  "nbformat_minor": 0,
  "metadata": {
    "colab": {
      "provenance": [],
      "include_colab_link": true
    },
    "kernelspec": {
      "name": "python3",
      "display_name": "Python 3"
    },
    "language_info": {
      "name": "python"
    }
  },
  "cells": [
    {
      "cell_type": "markdown",
      "metadata": {
        "id": "view-in-github",
        "colab_type": "text"
      },
      "source": [
        "<a href=\"https://colab.research.google.com/github/sergiyenkoalina/machine-learning-course/blob/main/HW_1_1_%D0%9E%D1%81%D0%BD%D0%BE%D0%B2%D0%B8_%D1%81%D1%82%D0%B0%D1%82%D0%B8%D1%81%D1%82%D0%B8%D0%BA%D0%B8.ipynb\" target=\"_parent\"><img src=\"https://colab.research.google.com/assets/colab-badge.svg\" alt=\"Open In Colab\"/></a>"
      ]
    },
    {
      "cell_type": "markdown",
      "source": [
        "В цьому домашньому завданні відпрацюємо з вами знання, отримані в модулі зі статистики.\n",
        "\n",
        "**Завдання 1.** Ми обговорили з Вами на лекції, що велика літера Сігма грецького алфавіту позначає в математиці суму. Знайдіть з використанням Python $\\Sigma x$, $\\Sigma x^2$, та $\\Sigma (x-1)^2$ для наступного набору даних:\n",
        "`1 3 4`\n",
        "Виведіть результат кожного обчислення на екран."
      ],
      "metadata": {
        "id": "SDhaTqxcWhnP"
      }
    },
    {
      "cell_type": "code",
      "source": [
        "x=[1, 3, 4]\n",
        "x_sum=sum(x)\n",
        "x_sq_sum=sum(i**2 for i in x)\n",
        "x_red_sum=sum((i-1)**2 for i in x)\n",
        "(x_sum, x_sq_sum, x_red_sum)"
      ],
      "metadata": {
        "id": "B1mgx_IBT0e8",
        "colab": {
          "base_uri": "https://localhost:8080/"
        },
        "outputId": "2ca2aa17-96e7-4987-8988-d24005e0f493"
      },
      "execution_count": 3,
      "outputs": [
        {
          "output_type": "execute_result",
          "data": {
            "text/plain": [
              "(8, 26, 13)"
            ]
          },
          "metadata": {},
          "execution_count": 3
        }
      ]
    },
    {
      "cell_type": "markdown",
      "source": [
        "**Завдання 2.** Ми зібрали дані про суму покупок в гривнях 20ма випадково обраними клієнтами в нашому магазині (всього клієнтів у нас більше) за минулий місяць. Вони представлені в змінній `sum_purchases`. Знайдіть **вибіркове середнє** для цих даних кожним з зазначених методів:   \n",
        "\n",
        "  2.1. без використання жодних бібліотек, користуючись тільки Python.  \n",
        "  2.2. використовуючи відповідний метод бібліотеки `numpy`.\n",
        "\n",
        "  Виведіть результат обчислень в кожному з випадків на екран та порівняйте результати. Вони співпадають?"
      ],
      "metadata": {
        "id": "fa78aW5lhiia"
      }
    },
    {
      "cell_type": "code",
      "execution_count": 4,
      "metadata": {
        "id": "_9kMt3rq6V5m"
      },
      "outputs": [],
      "source": [
        "sum_purchases = [ 316,  493,  367,  153,  224,  121,  322,  450,  196,  397,  281,\n",
        "  239,  484,  124,  223,  448,  432,  255, 4310, 3524]"
      ]
    },
    {
      "cell_type": "code",
      "source": [
        "import numpy as np"
      ],
      "metadata": {
        "id": "rQCM14uYtH4w"
      },
      "execution_count": 5,
      "outputs": []
    },
    {
      "cell_type": "code",
      "source": [
        "purchases_mean=sum(sum_purchases)/len(sum_purchases)\n",
        "purchases_mean_np=np.mean(sum_purchases)\n",
        "(purchases_mean, purchases_mean_np )"
      ],
      "metadata": {
        "id": "wPmL919HT1c0",
        "colab": {
          "base_uri": "https://localhost:8080/"
        },
        "outputId": "ef818ac1-b1b6-428e-e979-43b3589795ba"
      },
      "execution_count": 6,
      "outputs": [
        {
          "output_type": "execute_result",
          "data": {
            "text/plain": [
              "(667.95, 667.95)"
            ]
          },
          "metadata": {},
          "execution_count": 6
        }
      ]
    },
    {
      "cell_type": "markdown",
      "source": [
        "**Завдання 3.** Для того ж набору даних в змінній `sum_purchases` обчисліть **медіану** кожним з зазначених методів:  \n",
        "\n",
        "  3.1. без використання жодних бібліотек, користуючись тільки Python.  \n",
        "  3.2. використовуючи відповідний метод бібліотеки numpy.  \n",
        "\n",
        "Виведіть результат обчислень в кожному з випадків на екран. Порівняйте результати зі значенням вибіркового середнього. Напишіть коментар, для яких задач ви б використовували вибіркове середнє, а для яких - медіану?"
      ],
      "metadata": {
        "id": "FMdoxZd0kZdW"
      }
    },
    {
      "cell_type": "code",
      "source": [
        "purchases_median=(sorted(sum_purchases)[len(sum_purchases)//2-1] + sorted(sum_purchases)[len(sum_purchases)//2])/2\n",
        "purchases_median_np=np.median(sum_purchases)\n",
        "(purchases_median, purchases_median_np)"
      ],
      "metadata": {
        "id": "x58BumvuT2nl",
        "colab": {
          "base_uri": "https://localhost:8080/"
        },
        "outputId": "5d214d23-2cc6-4921-e272-9c9cb389e064"
      },
      "execution_count": 7,
      "outputs": [
        {
          "output_type": "execute_result",
          "data": {
            "text/plain": [
              "(319.0, 319.0)"
            ]
          },
          "metadata": {},
          "execution_count": 7
        }
      ]
    },
    {
      "cell_type": "markdown",
      "source": [
        "**Коментар:** Я би використовувала середнє для задач, де є нормальний (або близький до нього) розподіл даних. Медіану має сенс застосовувати для даних, де є викиди."
      ],
      "metadata": {
        "id": "tDDfvWkJuDta"
      }
    },
    {
      "cell_type": "markdown",
      "source": [
        "**Завдання 4**. Обчислість стандартне відхилення наведеної вибірки в змінній `sum_purchases` кожним з зазначених методів:  \n",
        "\n",
        "  4.1. без використання жодних бібліотек, користуючись тільки Python.  \n",
        "  4.2. використовуючи відповідний метод бібліотеки numpy.  \n",
        "\n",
        "Виведіть результат обчислень в кожному з випадків на екран."
      ],
      "metadata": {
        "id": "o1Z7az2yNDQV"
      }
    },
    {
      "cell_type": "code",
      "source": [
        "purchases_minus_mean = [(i - purchases_mean)**2 for i in sum_purchases]\n",
        "purchases_std = (sum(purchases_minus_mean)/(len(sum_purchases)-1))**0.5\n",
        "purchases_std_np = np.std(sum_purchases, ddof=1)\n",
        "(purchases_std, purchases_std_np)"
      ],
      "metadata": {
        "id": "X4ixtmL2T642",
        "colab": {
          "base_uri": "https://localhost:8080/"
        },
        "outputId": "cf4bdd01-d15d-4ebd-b2f4-741b3806025b"
      },
      "execution_count": 8,
      "outputs": [
        {
          "output_type": "execute_result",
          "data": {
            "text/plain": [
              "(1124.5433447451132, 1124.5433447451132)"
            ]
          },
          "metadata": {},
          "execution_count": 8
        }
      ]
    },
    {
      "cell_type": "markdown",
      "source": [
        "**Завдання 5**. Ми провели дослідження віку студентів-першокурсників. Виявилось, що\n",
        "- 10 студентів мають вік 16 років\n",
        "- 25 студентів - 17 років\n",
        "- 20 студентів - 18 років\n",
        "- 2 студенти - 20 років\n",
        "\n",
        "Обчислість середнє значення для цієї вибірки будь-яким способом - на чистому Python або з numpy - та виведіть результат на екран."
      ],
      "metadata": {
        "id": "M1ntKTjXLVlH"
      }
    },
    {
      "cell_type": "code",
      "source": [
        "students=10*[16]+25*[17]+20*[18]+2*[20]\n",
        "students_mean=np.mean(students)\n",
        "students_mean"
      ],
      "metadata": {
        "id": "RdIU4M-7T8R4",
        "colab": {
          "base_uri": "https://localhost:8080/"
        },
        "outputId": "729bbc6b-c4f5-4bbb-aa28-cee425ff20af"
      },
      "execution_count": 9,
      "outputs": [
        {
          "output_type": "execute_result",
          "data": {
            "text/plain": [
              "17.280701754385966"
            ]
          },
          "metadata": {},
          "execution_count": 9
        }
      ]
    },
    {
      "cell_type": "markdown",
      "source": [
        "**Завдання 6**. Крім даних про суму покупок, ми зібрали ще дані про кількість відвідувань кожного з кожного покупця, які знаходяться в змінній `visits`. Обчисліть коефіцієнт кореляції Пірсона для суми покупок і кількості відвідувань кожним з зазначених методів:  \n",
        "\n",
        "  6.1. без використання жодних бібліотек, користуючись тільки Python.  \n",
        "  6.2. використовуючи відповідний метод бібліотеки numpy.  \n",
        "  \n",
        "Виведіть результат на екран. Проаналізуйте результат.\n",
        "\n",
        "Виведіть додатково графік розсіювання викликавши код нижче і зробіть заключення, чи варто щось змінити при підрахунку кореляції, аби коефіцієнт Пірсона показував коректну оцінку лінійної залежності?"
      ],
      "metadata": {
        "id": "Xx8MFkkVM53z"
      }
    },
    {
      "cell_type": "code",
      "source": [
        "visits = [ 6,  2, 10,  3,  9,  9,  2,  3,  6,  6, 10,  2,  5, 10,  3,  5,  4,\n",
        "        7,  4,  2]\n",
        "len(visits)"
      ],
      "metadata": {
        "id": "4OIGBT7UOWhO",
        "colab": {
          "base_uri": "https://localhost:8080/"
        },
        "outputId": "59d04a7e-f9fc-45df-a918-3e132d926d29"
      },
      "execution_count": 10,
      "outputs": [
        {
          "output_type": "execute_result",
          "data": {
            "text/plain": [
              "20"
            ]
          },
          "metadata": {},
          "execution_count": 10
        }
      ]
    },
    {
      "cell_type": "code",
      "source": [
        "visits_mean=sum(visits)/len(visits)\n",
        "\n",
        "cov_purchases_visits = sum((sum_purchases[i] - purchases_mean) * (visits[i] - visits_mean) for i in range(len(sum_purchases)))\n",
        "std_purchases = (sum((x - purchases_mean) ** 2 for x in sum_purchases) / len(sum_purchases))**0.5\n",
        "std_visits = (sum((x - visits_mean) ** 2 for x in visits) / len(visits))**0.5\n",
        "\n",
        "pearson_correlation = cov_purchases_visits / (std_purchases * std_visits)\n",
        "pearson_correlation_np=np.corrcoef(sum_purchases,visits)\n",
        "\n",
        "(pearson_correlation, pearson_correlation_np)"
      ],
      "metadata": {
        "id": "YLNF7VbeT97Q",
        "colab": {
          "base_uri": "https://localhost:8080/"
        },
        "outputId": "675dc17f-5bea-43d8-edbf-892d617c29c1"
      },
      "execution_count": 15,
      "outputs": [
        {
          "output_type": "execute_result",
          "data": {
            "text/plain": [
              "(-6.053168937533291,\n",
              " array([[ 1.        , -0.30265845],\n",
              "        [-0.30265845,  1.        ]]))"
            ]
          },
          "metadata": {},
          "execution_count": 15
        }
      ]
    },
    {
      "cell_type": "code",
      "source": [
        "import matplotlib.pyplot as plt\n",
        "\n",
        "plt.scatter(sum_purchases, visits)\n",
        "plt.title('Scatter Plot of Purchases vs. Visits')\n",
        "plt.xlabel('Sum of Purchases')\n",
        "plt.ylabel('Number of Visits');"
      ],
      "metadata": {
        "colab": {
          "base_uri": "https://localhost:8080/",
          "height": 472
        },
        "id": "gaeoGA-5Prr1",
        "outputId": "1e1a58c4-dc45-43d5-e0a7-80179d18fa2a"
      },
      "execution_count": 12,
      "outputs": [
        {
          "output_type": "display_data",
          "data": {
            "text/plain": [
              "<Figure size 640x480 with 1 Axes>"
            ],
            "image/png": "[encoded data removed]"
          },
          "metadata": {}
        }
      ]
    },
    {
      "cell_type": "markdown",
      "source": [
        "**Завдання 7**. В попередньому завданні ми помітили, що викиди нам заважають отримати \"правдиве\" значення кореляції. Давайте вилучимо записи, які відповідають значенням з викидами в сумі покупок і обчисліть коеф. кореляції. Для цього поставте `threshold`, який дорінює середньому значенню + 2 стандартних вдіхилля суми покупок і всі значення, які більше за нього, будемо вважати викидами (є і інші правила для визначення викидів - з ним и познайомимось пізніше).\n",
        "\n",
        "Вилучіть значення з обох масивів і обчисліть коеф. кореляції Пірсона з допомогою `numpy` для кількості візитів і суми покупок без записів-викидів. Виведіть результат на екран, побудуйте діаграму розсіювання і проаналізуйте результат: що можемо сказати про залежність в даних?"
      ],
      "metadata": {
        "id": "4pEg0KzSQ6KA"
      }
    },
    {
      "cell_type": "code",
      "source": [
        "sum_purchases = np.array(sum_purchases)\n",
        "visits = np.array(visits)\n",
        "threshold = purchases_mean + 2 * std_purchases\n",
        "mask = sum_purchases <= threshold\n",
        "filtered_purchases = sum_purchases[mask]\n",
        "filtered_visits = visits[mask]\n",
        "pearson_correlation_filtered = np.corrcoef(filtered_purchases, filtered_visits)[0, 1]\n",
        "pearson_correlation_filtered"
      ],
      "metadata": {
        "id": "Yj3Yfaf7UBbc",
        "colab": {
          "base_uri": "https://localhost:8080/"
        },
        "outputId": "8f637c9d-efa1-4c83-853b-7bdb8dcfdd8a"
      },
      "execution_count": 17,
      "outputs": [
        {
          "output_type": "execute_result",
          "data": {
            "text/plain": [
              "-0.3685212078127798"
            ]
          },
          "metadata": {},
          "execution_count": 17
        }
      ]
    },
    {
      "cell_type": "code",
      "source": [
        "import matplotlib.pyplot as plt\n",
        "plt.plot(sum_purchases, visits, 'o');"
      ],
      "metadata": {
        "colab": {
          "base_uri": "https://localhost:8080/",
          "height": 430
        },
        "id": "UPfgQfRWsy63",
        "outputId": "c3c15b23-1288-4496-8a8e-b21d8c0574e6"
      },
      "execution_count": 18,
      "outputs": [
        {
          "output_type": "display_data",
          "data": {
            "text/plain": [
              "<Figure size 640x480 with 1 Axes>"
            ],
            "image/png": "[encoded data removed]"
          },
          "metadata": {}
        }
      ]
    },
    {
      "cell_type": "code",
      "source": [
        "plt.plot(filtered_purchases, filtered_visits, 'o');"
      ],
      "metadata": {
        "colab": {
          "base_uri": "https://localhost:8080/",
          "height": 430
        },
        "id": "KrbPnbt8tk_v",
        "outputId": "f09e0e61-2e59-441f-a7d7-3c776ea89ee0"
      },
      "execution_count": 19,
      "outputs": [
        {
          "output_type": "display_data",
          "data": {
            "text/plain": [
              "<Figure size 640x480 with 1 Axes>"
            ],
            "image/png": "[encoded data removed]"
          },
          "metadata": {}
        }
      ]
    },
    {
      "cell_type": "markdown",
      "source": [
        "В результаті можна побачити, що кореляція незначна, тобто можна сказати, що немає сильного лінійного звʼязку між змінними.\n"
      ],
      "metadata": {
        "id": "osfSONiFuIKu"
      }
    }
  ]
}