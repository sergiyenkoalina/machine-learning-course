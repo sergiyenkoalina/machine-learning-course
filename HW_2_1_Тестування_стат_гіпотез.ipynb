{
  "nbformat": 4,
  "nbformat_minor": 0,
  "metadata": {
    "colab": {
      "provenance": [],
      "include_colab_link": true
    },
    "kernelspec": {
      "name": "python3",
      "display_name": "Python 3"
    },
    "language_info": {
      "name": "python"
    }
  },
  "cells": [
    {
      "cell_type": "markdown",
      "metadata": {
        "id": "view-in-github",
        "colab_type": "text"
      },
      "source": [
        "<a href=\"https://colab.research.google.com/github/sergiyenkoalina/machine-learning-course/blob/main/HW_2_1_%D0%A2%D0%B5%D1%81%D1%82%D1%83%D0%B2%D0%B0%D0%BD%D0%BD%D1%8F_%D1%81%D1%82%D0%B0%D1%82_%D0%B3%D1%96%D0%BF%D0%BE%D1%82%D0%B5%D0%B7.ipynb\" target=\"_parent\"><img src=\"https://colab.research.google.com/assets/colab-badge.svg\" alt=\"Open In Colab\"/></a>"
      ]
    },
    {
      "cell_type": "markdown",
      "source": [
        "В цьому ДЗ потренуємось виконувати Z-тести для тестування гіпотез в різних задачах. Для коректної імплементації та інтерпретації тестів рекоемндую переглянути спершу документацію:\n",
        "\n",
        "https://www.statsmodels.org/dev/generated/statsmodels.stats.weightstats.ztest.html\n",
        "\n",
        "### Завдання 1: Z-тест для однієї вибірки\n",
        "\n",
        "**Мета**: Перевірити, чи середнє значення вибірки відрізняється від гіпотетичного середнього.\n",
        "\n",
        "**Припущення**: Середній ріст студентів університету вважається 170 см. Ми хочемо перевірити, чи середній ріст випадкової вибірки студентів істотно більший. Вибірка задана в змінній `heights`.\n",
        "\n",
        "Для виконання завдання імпортуйте метод для проведення `ztest`, виконайте Z-тест з Python, виведіть p-value і зробіть заключення, чи справдилось припущення про середній зріст студентів на рівні значущості 0.05?\n",
        "\n",
        "Використовуємо тут Z-тест, оскільки вибірка достатньо велика (більше 30 екземплярів) і можемо вважати, що її стандартне відхилення близьке до ст. відхилення генеральної сукупності, а значить - відоме."
      ],
      "metadata": {
        "id": "ID3uSQHkQJ2J"
      }
    },
    {
      "cell_type": "code",
      "source": [
        "!pip install statsmodels --quiet\n",
        "import numpy as np\n",
        "from statsmodels.stats.weightstats import ztest\n",
        "from scipy.stats import ttest_ind"
      ],
      "metadata": {
        "id": "uTJEZPARYMd4"
      },
      "execution_count": 10,
      "outputs": []
    },
    {
      "cell_type": "code",
      "source": [
        "heights = [174, 171, 175, 179, 170, 170, 179, 175, 169, 174, 169, 169, 173, 162, 163, 169, 166,\n",
        "           173, 167, 164, 179, 170, 172, 164, 169, 175, 169, 174, 169, 169, 173, 162, 177]"
      ],
      "metadata": {
        "id": "TUYNSCDzRE7N"
      },
      "execution_count": 1,
      "outputs": []
    },
    {
      "cell_type": "markdown",
      "source": [
        "Нульова гіпотеза 𝐻0: Середній зріст студентів дорівнює або менше 170 см.\n",
        "\n",
        "Альтернативна гіпотеза 𝐻𝑎 : Середній зріст студентів більший за 170 см."
      ],
      "metadata": {
        "id": "pmdh9Usi0roU"
      }
    },
    {
      "cell_type": "code",
      "source": [
        "alpha = 0.05\n",
        "null_mean=170\n",
        "ztest_Score, p_value= ztest(heights, value=null_mean, alternative='larger')\n",
        "ztest_Score, p_value"
      ],
      "metadata": {
        "colab": {
          "base_uri": "https://localhost:8080/"
        },
        "id": "I_dgwmOJ1THi",
        "outputId": "927639c7-bda2-4fcd-86f7-bba4df730881"
      },
      "execution_count": 5,
      "outputs": [
        {
          "output_type": "execute_result",
          "data": {
            "text/plain": [
              "(0.8482235371587619, 0.19815674571091746)"
            ]
          },
          "metadata": {},
          "execution_count": 5
        }
      ]
    },
    {
      "cell_type": "code",
      "source": [
        "if(p_value <  alpha):\n",
        "    print(\"Відхилити Н0.\")\n",
        "else:\n",
        "    print(\"Н0 не може бути відхилена.\")"
      ],
      "metadata": {
        "colab": {
          "base_uri": "https://localhost:8080/"
        },
        "id": "79OzItMh2IQj",
        "outputId": "189ca7d6-b228-4bb5-ce73-68c97342f425"
      },
      "execution_count": 6,
      "outputs": [
        {
          "output_type": "stream",
          "name": "stdout",
          "text": [
            "Н0 не може бути відхилена.\n"
          ]
        }
      ]
    },
    {
      "cell_type": "markdown",
      "source": [
        "**Висновок**: При рівні значущості α=0.05, немає достатніх доказів для твердження, що середній зріст студентів перевищує 170 см. Тому нульова гіпотеза не відхиляється."
      ],
      "metadata": {
        "id": "zRRLbxUp6r1G"
      }
    },
    {
      "cell_type": "markdown",
      "source": [
        "### Завдання 2: Z-тест для двох незалежних вибірок\n",
        "\n",
        "**Завдання 2.1.**\n",
        "\n",
        "**Мета**: Перевірити, чи існує статистична різниця між середніми оцінками двох груп студентів.\n",
        "\n",
        "**Припущення**: Група A отримала новий навчальний курс, а група B продовжувала зі стандартним курсом. Ми перевіряємо, чи є новий курс ефективнішим.\n",
        "\n",
        "Виконайте Z-тест з Python, виведіть p-value і зробіть заключення, чи справдилось припущення щодо студентів на рівні значущості 0.05?"
      ],
      "metadata": {
        "id": "ga4iKM9kQa9Q"
      }
    },
    {
      "cell_type": "code",
      "source": [
        "group_a_scores = [78.55, 72.25, 79.88, 75.  , 76.54, 74.99, 87.26, 77.93, 72.71,\n",
        "       82.11, 71.9 , 79.04, 68.2 , 71.36, 78.98, 81.69, 78.86, 77.42,\n",
        "       76.49, 70.61, 74.4 , 75.7 , 83.29, 79.72, 69.18, 79.62, 76.07,\n",
        "       74.62, 81.06, 83.15, 82.66, 73.8 , 76.45, 79.66, 82.88, 75.6 ,\n",
        "       77.07, 72.47, 72.02, 82.06]\n",
        "\n",
        "group_b_scores = [81.78, 74.64, 80.02, 76.81, 71.77, 76.81, 82.69, 74.82, 82.82,\n",
        "       61.9 , 79.11, 75.44, 73.5 , 75.46, 65.06, 73.9 , 76.79, 82.39,\n",
        "       72.41, 70.96, 72.49, 79.58, 76.64, 72.35, 77.57, 75.49, 79.84,\n",
        "       71.49, 73.36, 73.04, 67.68, 76.48, 76.31, 75.03, 73.83, 67.92,\n",
        "       72.9 , 73.29, 70.99, 74.19]"
      ],
      "metadata": {
        "id": "SngJjNBJTgBp"
      },
      "execution_count": 7,
      "outputs": []
    },
    {
      "cell_type": "code",
      "source": [
        "np.mean(group_a_scores), np.mean(group_b_scores)"
      ],
      "metadata": {
        "id": "CvftCAEHYPKL",
        "colab": {
          "base_uri": "https://localhost:8080/"
        },
        "outputId": "5fe8b5de-d90e-4c3f-ed55-2e1782299833"
      },
      "execution_count": 8,
      "outputs": [
        {
          "output_type": "execute_result",
          "data": {
            "text/plain": [
              "(77.08125, 74.73875000000001)"
            ]
          },
          "metadata": {},
          "execution_count": 8
        }
      ]
    },
    {
      "cell_type": "markdown",
      "source": [
        "Нульова гіпотеза 𝐻0: ередні оцінки групи A та групи B однакові, тобто новий курс не є ефективнішим.\n",
        "\n",
        "Альтернативна гіпотеза 𝐻𝑎 :  Середні оцінки групи A відрізняються від середніх оцінок групи B.\n"
      ],
      "metadata": {
        "id": "VEvrjCKw9V5D"
      }
    },
    {
      "cell_type": "code",
      "source": [
        "ztest(group_a_scores, group_b_scores, alternative='two-sided')"
      ],
      "metadata": {
        "colab": {
          "base_uri": "https://localhost:8080/"
        },
        "id": "e-ltVzSW9ry2",
        "outputId": "91633c4e-a972-4114-9348-698adde87236"
      },
      "execution_count": 9,
      "outputs": [
        {
          "output_type": "execute_result",
          "data": {
            "text/plain": [
              "(2.357354864751502, 0.01840564855252801)"
            ]
          },
          "metadata": {},
          "execution_count": 9
        }
      ]
    },
    {
      "cell_type": "markdown",
      "source": [
        "**Висновок**: Статистика для двох вибірок z-критерію становить 2.357, а відповідне p-value дорівнює 0.018.\n",
        "\n",
        "Оскільки p-value < 0.05, у нас є достатньо доказів, щоб відкинути нульову гіпотезу. Тобто новий курс впливає на оцінки студентів"
      ],
      "metadata": {
        "id": "4Ledwz3E9zCh"
      }
    },
    {
      "cell_type": "markdown",
      "source": [
        "**Завдання 2.2.**\n",
        "\n",
        "\n",
        "**Мета**: Побачити, як впливає розмір вибірок на результат тесту.\n",
        "\n",
        "**Завдання**: Уявіть, що з групи А ми маємо тільки перші 5 записів, а з групи В - усі. Таке могло статись, якщо ми вже маємо результати тестів учнів за попередньою програмою, а тести за новою програмою здали наразі лише 5 учнів і ми вирішили не чекати довше.\n",
        "Виберіть перші 5 записів для групи А і проведіть t-test (для цього використовуємо наступний [метод](https://docs.scipy.org/doc/scipy/reference/generated/scipy.stats.ttest_ind.html)). Виведіть значення p-value. Зробіть висновок, який результат ви бачите щодо стат. значущості на рівні 0.05 для цього експерименту?\n",
        "\n",
        "Тут проводимо t-test оскільки одна з вибірок - дуже мала."
      ],
      "metadata": {
        "id": "zOxz2tU0VpJM"
      }
    },
    {
      "cell_type": "code",
      "source": [
        "group_a_scores = [78.55, 72.25, 79.88, 75.  , 76.54]\n",
        "\n",
        "group_b_scores = [81.78, 74.64, 80.02, 76.81, 71.77, 76.81, 82.69, 74.82, 82.82,\n",
        "       61.9 , 79.11, 75.44, 73.5 , 75.46, 65.06, 73.9 , 76.79, 82.39,\n",
        "       72.41, 70.96, 72.49, 79.58, 76.64, 72.35, 77.57, 75.49, 79.84,\n",
        "       71.49, 73.36, 73.04, 67.68, 76.48, 76.31, 75.03, 73.83, 67.92,\n",
        "       72.9 , 73.29, 70.99, 74.19]"
      ],
      "metadata": {
        "id": "D9znE6liYQmP"
      },
      "execution_count": null,
      "outputs": []
    },
    {
      "cell_type": "code",
      "source": [
        "t_stat, p_value = ttest_ind(group_a_scores, group_b_scores, equal_var=False)\n",
        "print(f\"T-статистика: {t_stat:.2f}\")\n",
        "print(f\"P-значення: {p_value:.4f}\")"
      ],
      "metadata": {
        "colab": {
          "base_uri": "https://localhost:8080/"
        },
        "id": "K5CQYdBb_X3-",
        "outputId": "0efd2fb7-dd3e-46d2-ea21-671ea1fa1776"
      },
      "execution_count": 11,
      "outputs": [
        {
          "output_type": "stream",
          "name": "stdout",
          "text": [
            "T-статистика: 2.36\n",
            "P-значення: 0.0209\n"
          ]
        }
      ]
    },
    {
      "cell_type": "markdown",
      "source": [
        "**Висновок**: Статистика для двох вибірок t-критерію становить 2.36, а відповідне p-value дорівнює 0.0209.\n",
        "\n",
        "Оскільки p-value < 0.05, у нас все ще є достатньо доказів, щоб відкинути нульову гіпотезу. Тобто новий курс впливає на оцінки студентів навіть при оцінці малої вибірки з А групи, але P-значення у цьому випадку більше"
      ],
      "metadata": {
        "id": "m2bkhNxs_oIY"
      }
    },
    {
      "cell_type": "markdown",
      "source": [
        "\n",
        "### Завдання 3\\*: Z-тест для двох **пов'язаних** вибірок\n",
        "\n",
        "**Мета**: Перевірити, чи вплинув тренінг на продуктивність працівників, коли всі справробітники проходили тренінг.\n",
        "\n",
        "**Припущення**: Наші працівники проходять однаковий тренінг, і ми хочемо з'ясувати, чи покращилися їхні показники після тренінгу на рівні значущості 0.05. Виконайте Z-тест з Python, виведіть p-value і зробіть заключення, чи поліпшились показники працівників на рівні значущості 0.05?\n",
        "\n",
        "Зверніть увагу, ці вибірки повʼязані між собою, значить не буде коректно виконати z-test між ними, натомість, ми можемо порівняти, чи різниця в результатах (продуктивності співробітників) є стат значущою."
      ],
      "metadata": {
        "id": "3TcRHLLz0SLw"
      }
    },
    {
      "cell_type": "code",
      "source": [
        "before_training = [57.82, 37.63, 36.8 , 55.22, 52.97, 52.5 , 53.46, 43.2 , 52.32,\n",
        "       52.93, 42.86, 68.66, 54.74, 38.09, 56.57, 40.25, 57.87, 61.59,\n",
        "       41.79, 59.63, 54.13, 58.22, 68.97, 47.55, 42.46, 41.1 , 41.84,\n",
        "       49.23, 53.41, 52.77]\n",
        "\n",
        "after_training = [62.47, 40.66, 42.7 , 57.69, 61.41, 56.76, 54.75, 44.06, 56.29,\n",
        "       55.48, 47.28, 72.6 , 57.59, 39.39, 56.54, 42.36, 62.58, 65.01,\n",
        "       42.3 , 62.98, 57.9 , 59.45, 72.28, 50.66, 43.18, 44.82, 45.96,\n",
        "       54.4 , 58.52, 53.01]"
      ],
      "metadata": {
        "id": "uxrjagJFW1GC"
      },
      "execution_count": 18,
      "outputs": []
    },
    {
      "cell_type": "code",
      "source": [
        "differences = np.array(after_training) - np.array(before_training)\n",
        "differences"
      ],
      "metadata": {
        "id": "NwCsN91OYSpN",
        "colab": {
          "base_uri": "https://localhost:8080/"
        },
        "outputId": "b2c8dc56-71cd-4f39-e7f5-c3e01f57d103"
      },
      "execution_count": 20,
      "outputs": [
        {
          "output_type": "execute_result",
          "data": {
            "text/plain": [
              "array([ 4.65,  3.03,  5.9 ,  2.47,  8.44,  4.26,  1.29,  0.86,  3.97,\n",
              "        2.55,  4.42,  3.94,  2.85,  1.3 , -0.03,  2.11,  4.71,  3.42,\n",
              "        0.51,  3.35,  3.77,  1.23,  3.31,  3.11,  0.72,  3.72,  4.12,\n",
              "        5.17,  5.11,  0.24])"
            ]
          },
          "metadata": {},
          "execution_count": 20
        }
      ]
    },
    {
      "cell_type": "markdown",
      "source": [],
      "metadata": {
        "id": "Xr3aliDND7t0"
      }
    },
    {
      "cell_type": "code",
      "source": [
        "z_stat, p_value = ztest(differences)\n",
        "\n",
        "print(f\"Z-статистика: {z_stat:.2f}\")\n",
        "print(f\"P-значення: {p_value:.4f}\")"
      ],
      "metadata": {
        "colab": {
          "base_uri": "https://localhost:8080/"
        },
        "id": "zfb-L-BEDQE2",
        "outputId": "ee5567e3-0778-42fa-d16d-0e1e7f91a8ff"
      },
      "execution_count": 22,
      "outputs": [
        {
          "output_type": "stream",
          "name": "stdout",
          "text": [
            "Z-статистика: 9.14\n",
            "P-значення: 0.0000\n"
          ]
        }
      ]
    },
    {
      "cell_type": "markdown",
      "source": [
        "**Висновок**: Статистика для двох вибірок t-критерію становить 9.14, а відповідне p-value дорівнює 0. Оскільки p-value < 0.05, тренінг має статистично значущий вплив на продуктивність співробітників."
      ],
      "metadata": {
        "id": "zQk4fOYHDXA4"
      }
    }
  ]
}